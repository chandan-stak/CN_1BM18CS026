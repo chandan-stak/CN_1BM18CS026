{
 "cells": [
  {
   "cell_type": "code",
   "execution_count": 1,
   "metadata": {},
   "outputs": [],
   "source": [
    "# Client Side program for TCP Socket communication \n",
    "from socket import socket, AF_INET, SOCK_STREAM\n",
    "def main():\n",
    "    s=socket(AF_INET,SOCK_STREAM)\n",
    "    print(\"TCP SOCKET PROGRAM : CLIENT  \")\n",
    "\n",
    "    HEADERSIZE=10  #heder length is fixed \n",
    "    ip='192.168.10.10' #IP address of the Server,\n",
    "    port=1235 #server port address\n",
    "    s.connect((ip,port))  #Connecting to the server \n",
    "    print(\"Client Connected to the server \")\n",
    "    request=input(\"Enter Filename : \") # requesting the filename from user\n",
    "    s.send(bytes(request,'utf-8')) #sending the request to the Server \n",
    "    print(f\"Request for contents of File : {request} sent.\")\n",
    "    new_msg=True\n",
    "    fullmsg=''\n",
    "    while True:   #Used as buffer size might be less than the payload \n",
    "        response=s.recv(50)  #client buffer is 50 bytes long ....\n",
    "        response=response.decode('utf-8')\n",
    "        if new_msg:\n",
    "            msglen= int(response[:HEADERSIZE])  #header contains the length of the Payload\n",
    "            new_msg=False\n",
    "        fullmsg+=response\n",
    "        if len(fullmsg)-HEADERSIZE == msglen : #checking whether full messsage is recieved or not \n",
    "            print(\"-\"*10)\n",
    "            print(f\"Contents of file { request } : \")\n",
    "            print(fullmsg[HEADERSIZE:])\n",
    "            print(\"-\"*10)\n",
    "            print(\"Content Recieved.\")\n",
    "            s.close()\n",
    "            print(\"Connection Terminated . \")\n",
    "            break"
   ]
  },
  {
   "cell_type": "code",
   "execution_count": 2,
   "metadata": {},
   "outputs": [
    {
     "name": "stdout",
     "output_type": "stream",
     "text": [
      "TCP SOCKET PROGRAM : CLIENT  \n",
      "Client Connected to the server \n",
      "Enter Filename : demo.txt\n",
      "Request for contents of File : demo.txt sent.\n",
      "----------\n",
      "Contents of file demo.txt : \n",
      "My name is Chandan C Bagan\n",
      "I am from Tumkur\n",
      "----------\n",
      "Content Recieved.\n",
      "Connection Terminated . \n"
     ]
    }
   ],
   "source": [
    "main()"
   ]
  }
 ],
 "metadata": {
  "kernelspec": {
   "display_name": "Python 3",
   "language": "python",
   "name": "python3"
  },
  "language_info": {
   "codemirror_mode": {
    "name": "ipython",
    "version": 3
   },
   "file_extension": ".py",
   "mimetype": "text/x-python",
   "name": "python",
   "nbconvert_exporter": "python",
   "pygments_lexer": "ipython3",
   "version": "3.8.3"
  }
 },
 "nbformat": 4,
 "nbformat_minor": 4
}
