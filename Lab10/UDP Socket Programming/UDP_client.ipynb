{
 "cells": [
  {
   "cell_type": "code",
   "execution_count": 1,
   "metadata": {},
   "outputs": [],
   "source": [
    "# Client Side program for UDP Socket communication \n",
    "from socket import socket, AF_INET, SOCK_DGRAM\n",
    "def main():\n",
    "    s=socket(AF_INET,SOCK_DGRAM)\n",
    "    print(\"UDP SOCKET PROGRAM : CLIENT  \")\n",
    "    ip='192.168.10.10' #IP address of the Server,\n",
    "    port=1235 #server port address\n",
    "    socket_addr=(ip,port)\n",
    "    request=input(\"Enter Filename : \") # requesting the filename from user\n",
    "    s.sendto(bytes(request,'utf-8'),socket_addr) #sending the request to the Server \n",
    "    print(f\"Request for contents of File : {request} sent to server.\")\n",
    "    response,addr=s.recvfrom(2048) \n",
    "    response=response.decode('utf-8')\n",
    "    if addr == (ip,port) :\n",
    "        print(\"-\"*10)\n",
    "        print(f\"Contents of file { request } : \")\n",
    "        print(response)\n",
    "        print(\"-\"*10)\n",
    "        print(\"Content Recieved.\")"
   ]
  },
  {
   "cell_type": "code",
   "execution_count": 2,
   "metadata": {},
   "outputs": [
    {
     "name": "stdout",
     "output_type": "stream",
     "text": [
      "UDP SOCKET PROGRAM : CLIENT  \n",
      "Enter Filename : demo.txt\n",
      "Request for contents of File : demo.txt sent to server.\n",
      "----------\n",
      "Contents of file demo.txt : \n",
      "My name is Chandan C Bagan\n",
      "I am from Tumkur\n",
      "----------\n",
      "Content Recieved.\n"
     ]
    }
   ],
   "source": [
    "main()"
   ]
  },
  {
   "cell_type": "code",
   "execution_count": null,
   "metadata": {},
   "outputs": [],
   "source": []
  }
 ],
 "metadata": {
  "kernelspec": {
   "display_name": "Python 3",
   "language": "python",
   "name": "python3"
  },
  "language_info": {
   "codemirror_mode": {
    "name": "ipython",
    "version": 3
   },
   "file_extension": ".py",
   "mimetype": "text/x-python",
   "name": "python",
   "nbconvert_exporter": "python",
   "pygments_lexer": "ipython3",
   "version": "3.8.3"
  }
 },
 "nbformat": 4,
 "nbformat_minor": 4
}
